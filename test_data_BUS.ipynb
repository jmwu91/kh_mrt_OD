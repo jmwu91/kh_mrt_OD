{
 "cells": [
  {
   "cell_type": "markdown",
   "metadata": {},
   "source": [
    "##### 公車票證資料"
   ]
  },
  {
   "cell_type": "code",
   "execution_count": 2,
   "metadata": {},
   "outputs": [],
   "source": [
    "import pandas as pd"
   ]
  },
  {
   "cell_type": "code",
   "execution_count": 4,
   "metadata": {},
   "outputs": [],
   "source": [
    "# TO2\n",
    "data_file_TO2 = \"C:/Users/JUN-MING-WU/OneDrive - 國立台灣大學/桌面/學術垃圾/code/kh_mrt_OD/data/高雄市公車電子票證資料(TO2)20240825/00677_sample.csv\"\n",
    "bus_TO2 = pd.read_csv(data_file_TO2)\n",
    "\n",
    "# 調整資料\n",
    "bus_TO2.columns = bus_TO2.iloc[0]\n",
    "df_TO2 = bus_TO2[1: ]\n",
    "\n",
    "df_TO2.reset_index(drop = True, inplace = True)"
   ]
  },
  {
   "cell_type": "code",
   "execution_count": 5,
   "metadata": {},
   "outputs": [],
   "source": [
    "# TO2A\n",
    "data_file_TO2A = \"C:/Users/JUN-MING-WU/OneDrive - 國立台灣大學/桌面/學術垃圾/code/kh_mrt_OD/data/高雄市公車電子票證資料(TO2A)20240825/00743_sample.csv\"\n",
    "bus_TO2A = pd.read_csv(data_file_TO2A)\n",
    "\n",
    "# 調整資料\n",
    "bus_TO2A.columns = bus_TO2A.iloc[0]\n",
    "df_TO2A = bus_TO2A[1: ]\n",
    "\n",
    "df_TO2A.reset_index(drop = True, inplace = True)"
   ]
  },
  {
   "cell_type": "code",
   "execution_count": null,
   "metadata": {},
   "outputs": [],
   "source": []
  }
 ],
 "metadata": {
  "kernelspec": {
   "display_name": "Python 3",
   "language": "python",
   "name": "python3"
  },
  "language_info": {
   "codemirror_mode": {
    "name": "ipython",
    "version": 3
   },
   "file_extension": ".py",
   "mimetype": "text/x-python",
   "name": "python",
   "nbconvert_exporter": "python",
   "pygments_lexer": "ipython3",
   "version": "3.11.3"
  }
 },
 "nbformat": 4,
 "nbformat_minor": 2
}
